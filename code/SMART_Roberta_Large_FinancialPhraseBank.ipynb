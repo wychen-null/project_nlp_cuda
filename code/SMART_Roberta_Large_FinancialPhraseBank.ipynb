{
 "cells": [
  {
   "cell_type": "code",
   "execution_count": 1,
   "metadata": {
    "ExecuteTime": {
     "end_time": "2024-03-15T16:34:13.687358100Z",
     "start_time": "2024-03-15T16:34:04.951743400Z"
    }
   },
   "outputs": [],
   "source": [
    "import pandas as pd\n",
    "import os\n",
    "os.environ[\"PYTORCH_CUDA_ALLOC_CONF\"] = \"expandable_segments:True\"\n",
    "import sys\n",
    "import numpy as np\n",
    "from transformers import AutoTokenizer, AutoModelForSequenceClassification, RobertaConfig\n",
    "\n",
    "from smart_pytorch import SMARTLoss, kl_loss, sym_kl_loss\n",
    "import torch\n",
    "import torch.nn as nn\n",
    "import torch.nn.functional as F\n",
    "import torch.utils.data as data\n",
    "from torch.utils.data import (\n",
    "    Dataset, \n",
    "    DataLoader, \n",
    "    RandomSampler, \n",
    "    SequentialSampler\n",
    ")\n",
    "import math \n",
    "from transformers.optimization import (\n",
    "    AdamW, \n",
    "    get_linear_schedule_with_warmup\n",
    ")\n",
    "from sklearn.metrics import (\n",
    "    confusion_matrix,\n",
    "    matthews_corrcoef,\n",
    "    accuracy_score,\n",
    "    roc_curve,\n",
    "    auc,\n",
    "    average_precision_score,\n",
    "    f1_score,\n",
    ")\n",
    "from scipy.special import softmax\n",
    "from torch.nn import CrossEntropyLoss\n",
    "from tqdm import tqdm"
   ]
  },
  {
   "cell_type": "code",
   "execution_count": 2,
   "metadata": {
    "ExecuteTime": {
     "end_time": "2024-03-15T16:34:13.738797100Z",
     "start_time": "2024-03-15T16:34:13.689349700Z"
    }
   },
   "outputs": [
    {
     "name": "stdout",
     "output_type": "stream",
     "text": [
      "12.1\n",
      "2.2.1\n",
      "True\n",
      "True\n",
      "3.11.5 | packaged by Anaconda, Inc. | (main, Sep 11 2023, 13:26:23) [MSC v.1916 64 bit (AMD64)]\n"
     ]
    }
   ],
   "source": [
    "print(torch.version.cuda)\n",
    "print(torch.__version__)\n",
    "print(torch.cuda.is_available())\n",
    "print(torch.backends.cudnn.enabled)\n",
    "print(sys.version)"
   ]
  },
  {
   "cell_type": "code",
   "execution_count": 3,
   "metadata": {
    "ExecuteTime": {
     "end_time": "2024-03-15T16:34:14.010854700Z",
     "start_time": "2024-03-15T16:34:13.740793700Z"
    }
   },
   "outputs": [
    {
     "data": {
      "text/plain": "                                               Sentence Sentiment  Class\n0     According to Gran , the company has no plans t...   neutral      1\n1     For the last quarter of 2010 , Componenta 's n...  positive      2\n2     In the third quarter of 2010 , net sales incre...  positive      2\n3     Operating profit rose to EUR 13.1 mn from EUR ...  positive      2\n4     Operating profit totalled EUR 21.1 mn , up fro...  positive      2\n...                                                 ...       ...    ...\n2259  Operating result for the 12-month period decre...  negative      0\n2260  HELSINKI Thomson Financial - Shares in Cargote...  negative      0\n2261  LONDON MarketWatch -- Share prices ended lower...  negative      0\n2262  Operating profit fell to EUR 35.4 mn from EUR ...  negative      0\n2263  Sales in Finland decreased by 10.5 % in Januar...  negative      0\n\n[2264 rows x 3 columns]",
      "text/html": "<div>\n<style scoped>\n    .dataframe tbody tr th:only-of-type {\n        vertical-align: middle;\n    }\n\n    .dataframe tbody tr th {\n        vertical-align: top;\n    }\n\n    .dataframe thead th {\n        text-align: right;\n    }\n</style>\n<table border=\"1\" class=\"dataframe\">\n  <thead>\n    <tr style=\"text-align: right;\">\n      <th></th>\n      <th>Sentence</th>\n      <th>Sentiment</th>\n      <th>Class</th>\n    </tr>\n  </thead>\n  <tbody>\n    <tr>\n      <th>0</th>\n      <td>According to Gran , the company has no plans t...</td>\n      <td>neutral</td>\n      <td>1</td>\n    </tr>\n    <tr>\n      <th>1</th>\n      <td>For the last quarter of 2010 , Componenta 's n...</td>\n      <td>positive</td>\n      <td>2</td>\n    </tr>\n    <tr>\n      <th>2</th>\n      <td>In the third quarter of 2010 , net sales incre...</td>\n      <td>positive</td>\n      <td>2</td>\n    </tr>\n    <tr>\n      <th>3</th>\n      <td>Operating profit rose to EUR 13.1 mn from EUR ...</td>\n      <td>positive</td>\n      <td>2</td>\n    </tr>\n    <tr>\n      <th>4</th>\n      <td>Operating profit totalled EUR 21.1 mn , up fro...</td>\n      <td>positive</td>\n      <td>2</td>\n    </tr>\n    <tr>\n      <th>...</th>\n      <td>...</td>\n      <td>...</td>\n      <td>...</td>\n    </tr>\n    <tr>\n      <th>2259</th>\n      <td>Operating result for the 12-month period decre...</td>\n      <td>negative</td>\n      <td>0</td>\n    </tr>\n    <tr>\n      <th>2260</th>\n      <td>HELSINKI Thomson Financial - Shares in Cargote...</td>\n      <td>negative</td>\n      <td>0</td>\n    </tr>\n    <tr>\n      <th>2261</th>\n      <td>LONDON MarketWatch -- Share prices ended lower...</td>\n      <td>negative</td>\n      <td>0</td>\n    </tr>\n    <tr>\n      <th>2262</th>\n      <td>Operating profit fell to EUR 35.4 mn from EUR ...</td>\n      <td>negative</td>\n      <td>0</td>\n    </tr>\n    <tr>\n      <th>2263</th>\n      <td>Sales in Finland decreased by 10.5 % in Januar...</td>\n      <td>negative</td>\n      <td>0</td>\n    </tr>\n  </tbody>\n</table>\n<p>2264 rows × 3 columns</p>\n</div>"
     },
     "execution_count": 3,
     "metadata": {},
     "output_type": "execute_result"
    }
   ],
   "source": [
    "# all_df = pd.read_csv('../data/financial_sen/data.csv')\n",
    "all_df = pd.read_csv('..\\data\\FinancialPhraseBank-v1.0\\Sentences_AllAgree.csv')\n",
    "#all_df['Sentiment']\n",
    "label = []\n",
    "for index, row in all_df.iterrows():\n",
    "    if row['Sentiment'] == 'negative':\n",
    "        label.append(0)\n",
    "    elif row['Sentiment'] == 'neutral':\n",
    "        label.append(1)\n",
    "    else:\n",
    "        label.append(2)\n",
    "        \n",
    "label_df=pd.DataFrame(label)\n",
    "label_df.columns = ['Class']\n",
    "all_df = all_df.join(label_df)\n",
    "all_df"
   ]
  },
  {
   "cell_type": "code",
   "execution_count": 4,
   "metadata": {
    "ExecuteTime": {
     "end_time": "2024-03-15T16:34:14.022176600Z",
     "start_time": "2024-03-15T16:34:14.011851200Z"
    }
   },
   "outputs": [],
   "source": [
    "model_name = \"roberta-large\"\n",
    "\n",
    "num_labels = 3\n",
    "device = torch.device(\"cuda\")\n",
    "\n",
    "tokenizer_name = model_name\n",
    "\n",
    "max_seq_length = 128\n",
    "train_batch_size = 8\n",
    "test_batch_size = 8\n",
    "warmup_ratio = 0.06\n",
    "weight_decay=0.0\n",
    "gradient_accumulation_steps = 1\n",
    "num_train_epochs = 15\n",
    "learning_rate = 1e-05\n",
    "adam_epsilon = 1e-08"
   ]
  },
  {
   "cell_type": "code",
   "execution_count": 5,
   "metadata": {
    "ExecuteTime": {
     "end_time": "2024-03-15T16:34:19.659469300Z",
     "start_time": "2024-03-15T16:34:14.021177800Z"
    }
   },
   "outputs": [
    {
     "name": "stderr",
     "output_type": "stream",
     "text": [
      "C:\\Users\\lenovo\\anaconda3\\Lib\\site-packages\\transformers\\utils\\generic.py:260: UserWarning: torch.utils._pytree._register_pytree_node is deprecated. Please use torch.utils._pytree.register_pytree_node instead.\n",
      "  torch.utils._pytree._register_pytree_node(\n",
      "Some weights of RobertaForSequenceClassification were not initialized from the model checkpoint at roberta-large and are newly initialized: ['classifier.out_proj.bias', 'classifier.dense.bias', 'classifier.dense.weight', 'classifier.out_proj.weight']\n",
      "You should probably TRAIN this model on a down-stream task to be able to use it for predictions and inference.\n"
     ]
    }
   ],
   "source": [
    "class SMARTRobertaClassificationModel(nn.Module):\n",
    "    \n",
    "    def __init__(self, model, weight = 0.02):\n",
    "        super().__init__()\n",
    "        self.model = model \n",
    "        self.weight = weight\n",
    "\n",
    "    def forward(self, input_ids, attention_mask, labels):\n",
    "\n",
    "        # Get initial embeddings \n",
    "        embed = self.model.roberta.embeddings(input_ids) \n",
    "\n",
    "        # Define eval function \n",
    "        def eval(embed):\n",
    "            outputs = self.model.roberta(inputs_embeds=embed, attention_mask=attention_mask)\n",
    "            pooled = outputs[0] \n",
    "            logits = self.model.classifier(pooled) \n",
    "            return logits \n",
    "        \n",
    "        # Define SMART loss\n",
    "        smart_loss_fn = SMARTLoss(eval_fn = eval, loss_fn = kl_loss, loss_last_fn = sym_kl_loss)\n",
    "        # Compute initial (unperturbed) state \n",
    "        state = eval(embed)\n",
    "        # Apply classification loss \n",
    "        loss = F.cross_entropy(state.view(-1, 3), labels.view(-1))\n",
    "        # Apply smart loss \n",
    "        loss += self.weight * smart_loss_fn(embed, state)\n",
    "        \n",
    "        return state, loss\n",
    "    \n",
    "tokenizer = AutoTokenizer.from_pretrained(model_name)\n",
    "\n",
    "config = RobertaConfig.from_pretrained(model_name, num_labels=num_labels)\n",
    "model = AutoModelForSequenceClassification.from_pretrained(tokenizer_name,config=config)\n",
    "\n",
    "model_smart = SMARTRobertaClassificationModel(model)"
   ]
  },
  {
   "cell_type": "code",
   "execution_count": 6,
   "metadata": {
    "ExecuteTime": {
     "end_time": "2024-03-15T16:34:19.676941Z",
     "start_time": "2024-03-15T16:34:19.661464400Z"
    }
   },
   "outputs": [
    {
     "name": "stdout",
     "output_type": "stream",
     "text": [
      "Model=\n",
      " SMARTRobertaClassificationModel(\n",
      "  (model): RobertaForSequenceClassification(\n",
      "    (roberta): RobertaModel(\n",
      "      (embeddings): RobertaEmbeddings(\n",
      "        (word_embeddings): Embedding(50265, 1024, padding_idx=1)\n",
      "        (position_embeddings): Embedding(514, 1024, padding_idx=1)\n",
      "        (token_type_embeddings): Embedding(1, 1024)\n",
      "        (LayerNorm): LayerNorm((1024,), eps=1e-05, elementwise_affine=True)\n",
      "        (dropout): Dropout(p=0.1, inplace=False)\n",
      "      )\n",
      "      (encoder): RobertaEncoder(\n",
      "        (layer): ModuleList(\n",
      "          (0-23): 24 x RobertaLayer(\n",
      "            (attention): RobertaAttention(\n",
      "              (self): RobertaSelfAttention(\n",
      "                (query): Linear(in_features=1024, out_features=1024, bias=True)\n",
      "                (key): Linear(in_features=1024, out_features=1024, bias=True)\n",
      "                (value): Linear(in_features=1024, out_features=1024, bias=True)\n",
      "                (dropout): Dropout(p=0.1, inplace=False)\n",
      "              )\n",
      "              (output): RobertaSelfOutput(\n",
      "                (dense): Linear(in_features=1024, out_features=1024, bias=True)\n",
      "                (LayerNorm): LayerNorm((1024,), eps=1e-05, elementwise_affine=True)\n",
      "                (dropout): Dropout(p=0.1, inplace=False)\n",
      "              )\n",
      "            )\n",
      "            (intermediate): RobertaIntermediate(\n",
      "              (dense): Linear(in_features=1024, out_features=4096, bias=True)\n",
      "              (intermediate_act_fn): GELUActivation()\n",
      "            )\n",
      "            (output): RobertaOutput(\n",
      "              (dense): Linear(in_features=4096, out_features=1024, bias=True)\n",
      "              (LayerNorm): LayerNorm((1024,), eps=1e-05, elementwise_affine=True)\n",
      "              (dropout): Dropout(p=0.1, inplace=False)\n",
      "            )\n",
      "          )\n",
      "        )\n",
      "      )\n",
      "    )\n",
      "    (classifier): RobertaClassificationHead(\n",
      "      (dense): Linear(in_features=1024, out_features=1024, bias=True)\n",
      "      (dropout): Dropout(p=0.1, inplace=False)\n",
      "      (out_proj): Linear(in_features=1024, out_features=3, bias=True)\n",
      "    )\n",
      "  )\n",
      ") \n"
     ]
    }
   ],
   "source": [
    "print('Model=\\n',model_smart,'\\n')"
   ]
  },
  {
   "cell_type": "code",
   "execution_count": 7,
   "metadata": {
    "ExecuteTime": {
     "end_time": "2024-03-15T16:34:19.858594Z",
     "start_time": "2024-03-15T16:34:19.674945400Z"
    }
   },
   "outputs": [],
   "source": [
    "class MyClassificationDataset(Dataset):\n",
    "    \n",
    "    def __init__(self, data, tokenizer):\n",
    "        text, labels = data\n",
    "        self.examples = tokenizer(text=text,text_pair=None,truncation=True,padding=\"max_length\",\n",
    "                                  max_length=max_seq_length,return_tensors=\"pt\")\n",
    "        self.labels = torch.tensor(labels, dtype=torch.long)\n",
    "        \n",
    "\n",
    "    def __len__(self):\n",
    "        return len(self.examples[\"input_ids\"])\n",
    "\n",
    "    def __getitem__(self, index):\n",
    "        return {key: self.examples[key][index] for key in self.examples}, self.labels[index]\n",
    "\n",
    "\n",
    "all_examples = (all_df['Sentence'].astype(str).tolist(), all_df['Class'].tolist())\n",
    "all_dataset = MyClassificationDataset(all_examples,tokenizer)\n",
    "\n",
    "train_set_size = int(len(all_dataset) * 0.8)\n",
    "test_set_size = len(all_dataset) - train_set_size\n",
    "train_dataset, test_dataset = data.random_split(all_dataset, [train_set_size, test_set_size], generator=torch.Generator().manual_seed(0))"
   ]
  },
  {
   "cell_type": "code",
   "execution_count": 8,
   "metadata": {
    "ExecuteTime": {
     "end_time": "2024-03-15T16:34:19.858594Z",
     "start_time": "2024-03-15T16:34:19.850478600Z"
    }
   },
   "outputs": [],
   "source": [
    "def get_inputs_dict(batch):\n",
    "    inputs = {key: value.squeeze(1).to(device) for key, value in batch[0].items()}\n",
    "    inputs[\"labels\"] = batch[1].to(device)\n",
    "    return inputs\n",
    "\n",
    "train_sampler = RandomSampler(train_dataset)\n",
    "train_dataloader = DataLoader(train_dataset,shuffle=True,batch_size=train_batch_size)\n",
    "\n",
    "test_sampler = SequentialSampler(test_dataset)\n",
    "test_dataloader = DataLoader(test_dataset,sampler=test_sampler, batch_size=test_batch_size)\n",
    "\n",
    "#Extract a batch as sanity-check\n",
    "# batch = get_inputs_dict(next(iter(train_dataloader)))\n",
    "# input_ids = batch['input_ids'].to(device)\n",
    "# attention_mask = batch['attention_mask'].to(device)\n",
    "# labels = batch['labels'].to(device)\n",
    "\n",
    "# print(batch)"
   ]
  },
  {
   "cell_type": "code",
   "execution_count": 9,
   "metadata": {
    "ExecuteTime": {
     "end_time": "2024-03-15T16:34:21.482744100Z",
     "start_time": "2024-03-15T16:34:19.858594Z"
    }
   },
   "outputs": [
    {
     "name": "stderr",
     "output_type": "stream",
     "text": [
      "C:\\Users\\lenovo\\anaconda3\\Lib\\site-packages\\transformers\\optimization.py:411: FutureWarning: This implementation of AdamW is deprecated and will be removed in a future version. Use the PyTorch implementation torch.optim.AdamW instead, or set `no_deprecation_warning=True` to disable this warning\n",
      "  warnings.warn(\n"
     ]
    }
   ],
   "source": [
    "t_total = len(train_dataloader) // gradient_accumulation_steps * num_train_epochs\n",
    "optimizer_grouped_parameters = []\n",
    "custom_parameter_names = set()\n",
    "no_decay = [\"bias\", \"LayerNorm.weight\"]\n",
    "optimizer_grouped_parameters.extend(\n",
    "    [\n",
    "        {\n",
    "            \"params\": [\n",
    "                p\n",
    "                for n, p in model_smart.named_parameters()\n",
    "                if n not in custom_parameter_names and not any(nd in n for nd in no_decay)\n",
    "            ],\n",
    "            \"weight_decay\": weight_decay,\n",
    "        },\n",
    "        {\n",
    "            \"params\": [\n",
    "                p\n",
    "                for n, p in model_smart.named_parameters()\n",
    "                if n not in custom_parameter_names and any(nd in n for nd in no_decay)\n",
    "            ],\n",
    "            \"weight_decay\": 0.0,\n",
    "        },\n",
    "    ]\n",
    ")\n",
    "\n",
    "warmup_steps = math.ceil(t_total * warmup_ratio)\n",
    "optimizer = AdamW(optimizer_grouped_parameters, lr=learning_rate, eps=adam_epsilon)\n",
    "scheduler = get_linear_schedule_with_warmup(optimizer, num_warmup_steps=warmup_steps, num_training_steps=t_total)\n"
   ]
  },
  {
   "cell_type": "code",
   "execution_count": 10,
   "metadata": {
    "ExecuteTime": {
     "end_time": "2024-03-15T16:34:21.498722500Z",
     "start_time": "2024-03-15T16:34:21.485735600Z"
    }
   },
   "outputs": [],
   "source": [
    "def compute_metrics(preds, model_outputs, labels, eval_examples=None, multi_label=True):\n",
    "    assert len(preds) == len(labels)\n",
    "    mismatched = labels != preds\n",
    "    #wrong = [i for (i, v) in zip(eval_examples, mismatched) if v.any()]\n",
    "    mcc = matthews_corrcoef(labels, preds)\n",
    "    acc = accuracy_score(labels, preds)\n",
    "    f1 = f1_score(labels, preds, average='macro')\n",
    "    con_m = confusion_matrix(labels, preds, labels=[0, 1, 2])\n",
    "#     scores = np.array([softmax(element)[1] for element in model_outputs])\n",
    "#     fpr, tpr, thresholds = roc_curve(labels, scores)\n",
    "#     auroc = auc(fpr, tpr)\n",
    "#     auprc = average_precision_score(labels, scores)\n",
    "    return (\n",
    "        {\n",
    "            **{\"mcc\": mcc, \"acc\":acc, \"f1\": f1},\n",
    "        },\n",
    "        con_m\n",
    "    )\n",
    "\n",
    "def print_confusion_matrix(result):\n",
    "    print('confusion matrix:')\n",
    "    print('            predicted    ')\n",
    "    print('          0     |     1')\n",
    "    print('    ----------------------')\n",
    "    print('   0 | ',format(result['tn'],'5d'),' | ',format(result['fp'],'5d'))\n",
    "    print('gt -----------------------')\n",
    "    print('   1 | ',format(result['fn'],'5d'),' | ',format(result['tp'],'5d'))\n",
    "    print('---------------------------------------------------')\n"
   ]
  },
  {
   "cell_type": "code",
   "execution_count": 11,
   "metadata": {
    "ExecuteTime": {
     "end_time": "2024-03-15T16:34:21.498722500Z",
     "start_time": "2024-03-15T16:34:21.492313300Z"
    }
   },
   "outputs": [],
   "source": [
    "torch.cuda.empty_cache()"
   ]
  },
  {
   "cell_type": "code",
   "execution_count": 12,
   "metadata": {
    "ExecuteTime": {
     "end_time": "2024-03-15T17:21:47.141036Z",
     "start_time": "2024-03-15T16:34:21.499721300Z"
    }
   },
   "outputs": [
    {
     "name": "stderr",
     "output_type": "stream",
     "text": [
      "C:\\Users\\lenovo\\anaconda3\\Lib\\site-packages\\torch\\nn\\modules\\module.py:1150: UserWarning: expandable_segments not supported on this platform (Triggered internally at C:\\cb\\pytorch_1000000000000\\work\\c10/cuda/CUDAAllocatorConfig.h:30.)\n",
      "  return t.to(device, dtype if t.is_floating_point() or t.is_complex() else None, non_blocking)\n",
      "100%|██████████| 227/227 [46:05<00:00, 12.18s/it]\n"
     ]
    },
    {
     "name": "stdout",
     "output_type": "stream",
     "text": [
      "epoch 0 Training avg loss 1.0457727804057924\n"
     ]
    },
    {
     "name": "stderr",
     "output_type": "stream",
     "text": [
      "  2%|▏         | 5/227 [01:07<49:43, 13.44s/it]\n"
     ]
    },
    {
     "ename": "KeyboardInterrupt",
     "evalue": "",
     "output_type": "error",
     "traceback": [
      "\u001B[1;31m---------------------------------------------------------------------------\u001B[0m",
      "\u001B[1;31mKeyboardInterrupt\u001B[0m                         Traceback (most recent call last)",
      "Cell \u001B[1;32mIn[12], line 32\u001B[0m\n\u001B[0;32m     30\u001B[0m \u001B[38;5;28;01mwith\u001B[39;00m autocast():\n\u001B[0;32m     31\u001B[0m     logits, loss \u001B[38;5;241m=\u001B[39m model_smart(input_ids, attention_mask\u001B[38;5;241m=\u001B[39mattention_mask, labels\u001B[38;5;241m=\u001B[39mlabels)\n\u001B[1;32m---> 32\u001B[0m scaler\u001B[38;5;241m.\u001B[39mscale(loss)\u001B[38;5;241m.\u001B[39mbackward()\n\u001B[0;32m     33\u001B[0m scaler\u001B[38;5;241m.\u001B[39mstep(optimizer)\n\u001B[0;32m     34\u001B[0m scaler\u001B[38;5;241m.\u001B[39mupdate()\n",
      "File \u001B[1;32m~\\anaconda3\\Lib\\site-packages\\torch\\_tensor.py:522\u001B[0m, in \u001B[0;36mTensor.backward\u001B[1;34m(self, gradient, retain_graph, create_graph, inputs)\u001B[0m\n\u001B[0;32m    512\u001B[0m \u001B[38;5;28;01mif\u001B[39;00m has_torch_function_unary(\u001B[38;5;28mself\u001B[39m):\n\u001B[0;32m    513\u001B[0m     \u001B[38;5;28;01mreturn\u001B[39;00m handle_torch_function(\n\u001B[0;32m    514\u001B[0m         Tensor\u001B[38;5;241m.\u001B[39mbackward,\n\u001B[0;32m    515\u001B[0m         (\u001B[38;5;28mself\u001B[39m,),\n\u001B[1;32m   (...)\u001B[0m\n\u001B[0;32m    520\u001B[0m         inputs\u001B[38;5;241m=\u001B[39minputs,\n\u001B[0;32m    521\u001B[0m     )\n\u001B[1;32m--> 522\u001B[0m torch\u001B[38;5;241m.\u001B[39mautograd\u001B[38;5;241m.\u001B[39mbackward(\n\u001B[0;32m    523\u001B[0m     \u001B[38;5;28mself\u001B[39m, gradient, retain_graph, create_graph, inputs\u001B[38;5;241m=\u001B[39minputs\n\u001B[0;32m    524\u001B[0m )\n",
      "File \u001B[1;32m~\\anaconda3\\Lib\\site-packages\\torch\\autograd\\__init__.py:266\u001B[0m, in \u001B[0;36mbackward\u001B[1;34m(tensors, grad_tensors, retain_graph, create_graph, grad_variables, inputs)\u001B[0m\n\u001B[0;32m    261\u001B[0m     retain_graph \u001B[38;5;241m=\u001B[39m create_graph\n\u001B[0;32m    263\u001B[0m \u001B[38;5;66;03m# The reason we repeat the same comment below is that\u001B[39;00m\n\u001B[0;32m    264\u001B[0m \u001B[38;5;66;03m# some Python versions print out the first line of a multi-line function\u001B[39;00m\n\u001B[0;32m    265\u001B[0m \u001B[38;5;66;03m# calls in the traceback and some print out the last line\u001B[39;00m\n\u001B[1;32m--> 266\u001B[0m Variable\u001B[38;5;241m.\u001B[39m_execution_engine\u001B[38;5;241m.\u001B[39mrun_backward(  \u001B[38;5;66;03m# Calls into the C++ engine to run the backward pass\u001B[39;00m\n\u001B[0;32m    267\u001B[0m     tensors,\n\u001B[0;32m    268\u001B[0m     grad_tensors_,\n\u001B[0;32m    269\u001B[0m     retain_graph,\n\u001B[0;32m    270\u001B[0m     create_graph,\n\u001B[0;32m    271\u001B[0m     inputs,\n\u001B[0;32m    272\u001B[0m     allow_unreachable\u001B[38;5;241m=\u001B[39m\u001B[38;5;28;01mTrue\u001B[39;00m,\n\u001B[0;32m    273\u001B[0m     accumulate_grad\u001B[38;5;241m=\u001B[39m\u001B[38;5;28;01mTrue\u001B[39;00m,\n\u001B[0;32m    274\u001B[0m )\n",
      "\u001B[1;31mKeyboardInterrupt\u001B[0m: "
     ]
    }
   ],
   "source": [
    "model_smart.to(device)\n",
    "\n",
    "model_smart.zero_grad()\n",
    "\n",
    "# Initialize GradScaler for mixed precision training\n",
    "from torch.cuda.amp import autocast, GradScaler\n",
    "scaler = GradScaler()\n",
    "\n",
    "\n",
    "#training\n",
    "for epoch in range(num_train_epochs):\n",
    "\n",
    "    model_smart.train()\n",
    "    epoch_loss = []\n",
    "    \n",
    "    for batch in tqdm(train_dataloader):\n",
    "        batch = get_inputs_dict(batch)\n",
    "        input_ids = batch['input_ids'].to(device)\n",
    "        attention_mask = batch['attention_mask'].to(device)\n",
    "        labels = batch['labels'].to(device)\n",
    "        \n",
    "        \n",
    "        # logits, loss = model_smart(input_ids, attention_mask=attention_mask, labels=labels)\n",
    "        # loss.backward()\n",
    "        # optimizer.step()\n",
    "        # scheduler.step()\n",
    "        \n",
    "        \n",
    "        # Use mixed precision training\n",
    "        with autocast():\n",
    "            logits, loss = model_smart(input_ids, attention_mask=attention_mask, labels=labels)\n",
    "        scaler.scale(loss).backward()\n",
    "        scaler.step(optimizer)\n",
    "        scaler.update()\n",
    "        \n",
    "        model_smart.zero_grad()\n",
    "        epoch_loss.append(loss.item())\n",
    "        \n",
    "#    SAVE\n",
    "    PATH = \"SMART_Roberta_large_FinancialPhraseBank/all_agree/\"+str(epoch)\n",
    "    torch.save(model_smart.state_dict(), PATH)\n",
    "    \n",
    "    \n",
    "    print('epoch',epoch,'Training avg loss',np.mean(epoch_loss))"
   ]
  },
  {
   "cell_type": "code",
   "execution_count": null,
   "metadata": {
    "ExecuteTime": {
     "start_time": "2024-03-15T17:21:47.138045800Z"
    }
   },
   "outputs": [],
   "source": [
    "model_smart.to(device)\n",
    "\n",
    "for epoch in range(num_train_epochs):\n",
    "    \n",
    "    #evaluate model with test_df at the end of the epoch.\n",
    "    eval_loss = 0.0\n",
    "    nb_eval_steps = 0\n",
    "    n_batches = len(test_dataloader)\n",
    "    preds = np.empty((len(test_dataset), num_labels))\n",
    "    out_label_ids = np.empty((len(test_dataset)))\n",
    "    \n",
    "    PATH = \"SMART_Roberta_large_FinancialPhraseBank/all_agree/\"+str(epoch)\n",
    "    model_smart.load_state_dict(torch.load(PATH))\n",
    "    model_smart.eval()\n",
    "    \n",
    "    for i,test_batch in enumerate(test_dataloader):\n",
    "#         with torch.no_grad():\n",
    "        test_batch = get_inputs_dict(test_batch)\n",
    "        input_ids = test_batch['input_ids'].to(device)\n",
    "        attention_mask = test_batch['attention_mask'].to(device)\n",
    "        labels = test_batch['labels'].to(device)\n",
    "        logits, tmp_eval_loss = model_smart(input_ids, attention_mask=attention_mask, labels=labels)\n",
    "    #             tmp_eval_loss, logits = outputs[:2]\n",
    "        eval_loss += tmp_eval_loss.item()\n",
    "            \n",
    "        nb_eval_steps += 1\n",
    "        start_index = test_batch_size * i\n",
    "        end_index = start_index + test_batch_size if i != (n_batches - 1) else len(test_dataset)\n",
    "#         print(logits)\n",
    "        preds[start_index:end_index] = logits.detach().cpu().numpy()\n",
    "        out_label_ids[start_index:end_index] = test_batch[\"labels\"].detach().cpu().numpy()\n",
    "        \n",
    "    eval_loss = eval_loss / nb_eval_steps\n",
    "    model_outputs = preds\n",
    "    preds = np.argmax(preds, axis=1)\n",
    "    result, con_m = compute_metrics(preds, model_outputs, out_label_ids)\n",
    "    \n",
    "    #print('epoch',epoch,'Training avg loss',np.mean(epoch_loss))\n",
    "    print('epoch',epoch,'Testing  avg loss',eval_loss)\n",
    "    print(result)\n",
    "    print(con_m)\n",
    "    print('---------------------------------------------------\\n')"
   ]
  },
  {
   "cell_type": "code",
   "execution_count": null,
   "metadata": {
    "ExecuteTime": {
     "start_time": "2024-03-15T17:21:47.140038500Z"
    }
   },
   "outputs": [],
   "source": [
    "df_sample =  pd.read_csv(\"../data/seeking_alpha_cleaned.csv\")\n",
    "# df_sample\n",
    "new_labels=np.zeros(234)\n",
    "\n",
    "sample_examples = (df_sample['summary'].astype(str).tolist(),new_labels)\n",
    "sample_dataset = MyClassificationDataset(sample_examples,tokenizer)\n",
    "\n",
    "sample_dataloader = DataLoader(sample_dataset,shuffle=False,batch_size=test_batch_size)\n",
    "\n",
    "print(sample_dataloader)"
   ]
  },
  {
   "cell_type": "code",
   "execution_count": null,
   "metadata": {
    "ExecuteTime": {
     "end_time": "2024-03-15T17:21:47.147021Z",
     "start_time": "2024-03-15T17:21:47.147021Z"
    }
   },
   "outputs": [],
   "source": [
    "import datasets\n",
    "sample_data = datasets.load_dataset('zeroshot/twitter-financial-news-sentiment', split='validation')\n",
    "\n",
    "new_label = []\n",
    "for s in sample_data:\n",
    "    if s['label'] == 1:\n",
    "#         print('f')\n",
    "        new_label.append(2)\n",
    "    elif s['label']==2:\n",
    "        new_label.append(1)\n",
    "    else:\n",
    "        new_label.append(0)\n",
    "sample_examples = (sample_data['text'], new_label)\n",
    "sample_dataset = MyClassificationDataset(sample_examples,tokenizer)\n",
    "sample_dataloader = DataLoader(sample_dataset,shuffle=False,batch_size=test_batch_size)"
   ]
  },
  {
   "cell_type": "code",
   "execution_count": null,
   "metadata": {
    "ExecuteTime": {
     "start_time": "2024-03-15T17:21:47.149016400Z"
    }
   },
   "outputs": [],
   "source": [
    "model_smart.to(device)\n",
    "pred_final = []\n",
    "for epoch in range(8,9):\n",
    "    \n",
    "    #evaluate model with test_df at the end of the epoch.\n",
    "    eval_loss = 0.0\n",
    "    nb_eval_steps = 0\n",
    "    n_batches = len(sample_dataloader)\n",
    "    preds = np.empty((len(sample_dataset), num_labels))\n",
    "    out_label_ids = np.empty((len(sample_dataset)))\n",
    "    \n",
    "    PATH = \"SMART_Roberta_large_FinancialPhraseBank/all_agree/\"+str(epoch)\n",
    "    model_smart.load_state_dict(torch.load(PATH))\n",
    "    model_smart.eval()\n",
    "    \n",
    "    for i,test_batch in enumerate(sample_dataloader):\n",
    "#         with torch.no_grad():\n",
    "        test_batch = get_inputs_dict(test_batch)\n",
    "        input_ids = test_batch['input_ids'].to(device)\n",
    "        attention_mask = test_batch['attention_mask'].to(device)\n",
    "        labels = test_batch['labels'].to(device)\n",
    "        logits, tmp_eval_loss = model_smart(input_ids, attention_mask=attention_mask, labels=labels)\n",
    "    #             tmp_eval_loss, logits = outputs[:2]\n",
    "        eval_loss += tmp_eval_loss.item()\n",
    "            \n",
    "        nb_eval_steps += 1\n",
    "        start_index = test_batch_size * i\n",
    "        end_index = start_index + test_batch_size if i != (n_batches - 1) else len(sample_dataset)\n",
    "#         print(logits)\n",
    "        preds[start_index:end_index] = logits.detach().cpu().numpy()\n",
    "        out_label_ids[start_index:end_index] = test_batch[\"labels\"].detach().cpu().numpy()\n",
    "        \n",
    "    eval_loss = eval_loss / nb_eval_steps\n",
    "    model_outputs = preds\n",
    "    preds = np.argmax(preds, axis=1)\n",
    "    result, con_m = compute_metrics(preds, model_outputs, out_label_ids)\n",
    "    if epoch == 8:\n",
    "        pred_final = preds \n",
    "    \n",
    "    #print('epoch',epoch,'Training avg loss',np.mean(epoch_loss))\n",
    "    print('epoch',epoch,'Testing  avg loss',eval_loss)\n",
    "    print(result)\n",
    "    print(con_m)\n",
    "    print('---------------------------------------------------\\n')"
   ]
  },
  {
   "cell_type": "code",
   "execution_count": null,
   "metadata": {
    "ExecuteTime": {
     "start_time": "2024-03-15T17:21:47.152008200Z"
    }
   },
   "outputs": [],
   "source": [
    "pred_final_df=pd.DataFrame(preds)\n",
    "pred_final_df.columns = ['pred_sen']\n",
    "df_sample = df_sample.join(pred_final_df)\n",
    "df_sample"
   ]
  },
  {
   "cell_type": "code",
   "execution_count": null,
   "metadata": {
    "ExecuteTime": {
     "start_time": "2024-03-15T17:21:47.153004600Z"
    }
   },
   "outputs": [],
   "source": [
    "df_sample.to_csv(\"../data/seeking_alpha_pred.csv\",index=False)"
   ]
  },
  {
   "cell_type": "code",
   "execution_count": null,
   "metadata": {
    "ExecuteTime": {
     "end_time": "2024-03-15T17:21:47.160998500Z",
     "start_time": "2024-03-15T17:21:47.155000300Z"
    }
   },
   "outputs": [],
   "source": []
  }
 ],
 "metadata": {
  "kernelspec": {
   "display_name": "Python 3 (ipykernel)",
   "language": "python",
   "name": "python3"
  },
  "language_info": {
   "codemirror_mode": {
    "name": "ipython",
    "version": 3
   },
   "file_extension": ".py",
   "mimetype": "text/x-python",
   "name": "python",
   "nbconvert_exporter": "python",
   "pygments_lexer": "ipython3",
   "version": "3.9.13"
  }
 },
 "nbformat": 4,
 "nbformat_minor": 4
}
